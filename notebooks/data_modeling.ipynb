{
 "cells": [
  {
   "attachments": {},
   "cell_type": "markdown",
   "metadata": {},
   "source": [
    "# III. Model Building"
   ]
  },
  {
   "attachments": {},
   "cell_type": "markdown",
   "metadata": {},
   "source": [
    "Predicting the salary based on job state, company rating, company industry and other variables."
   ]
  },
  {
   "attachments": {},
   "cell_type": "markdown",
   "metadata": {},
   "source": [
    "#### Importing essential librairies"
   ]
  },
  {
   "cell_type": "code",
   "execution_count": 679,
   "metadata": {},
   "outputs": [],
   "source": [
    "import pandas as pd \n",
    "import matplotlib.pyplot as plt\n",
    "import seaborn as sns\n",
    "import numpy as np"
   ]
  },
  {
   "cell_type": "code",
   "execution_count": 680,
   "metadata": {},
   "outputs": [
    {
     "data": {
      "text/html": [
       "<div>\n",
       "<style scoped>\n",
       "    .dataframe tbody tr th:only-of-type {\n",
       "        vertical-align: middle;\n",
       "    }\n",
       "\n",
       "    .dataframe tbody tr th {\n",
       "        vertical-align: top;\n",
       "    }\n",
       "\n",
       "    .dataframe thead th {\n",
       "        text-align: right;\n",
       "    }\n",
       "</style>\n",
       "<table border=\"1\" class=\"dataframe\">\n",
       "  <thead>\n",
       "    <tr style=\"text-align: right;\">\n",
       "      <th></th>\n",
       "      <th>company</th>\n",
       "      <th>company_rating</th>\n",
       "      <th>location</th>\n",
       "      <th>job_title</th>\n",
       "      <th>job_description</th>\n",
       "      <th>salary_estimate</th>\n",
       "      <th>company_size</th>\n",
       "      <th>company_type</th>\n",
       "      <th>company_sector</th>\n",
       "      <th>company_industry</th>\n",
       "      <th>...</th>\n",
       "      <th>job_state</th>\n",
       "      <th>company_age</th>\n",
       "      <th>job_simp</th>\n",
       "      <th>seniority</th>\n",
       "      <th>job_languages</th>\n",
       "      <th>job_cloud</th>\n",
       "      <th>job_viz</th>\n",
       "      <th>job_bigdata</th>\n",
       "      <th>job_data</th>\n",
       "      <th>job_education</th>\n",
       "    </tr>\n",
       "  </thead>\n",
       "  <tbody>\n",
       "    <tr>\n",
       "      <th>0</th>\n",
       "      <td>PCS Global Tech</td>\n",
       "      <td>4.7</td>\n",
       "      <td>Riverside, CA</td>\n",
       "      <td>Data Engineer | PAID BOOTCAMP</td>\n",
       "      <td>Responsibilities\\n· Analyze and organize raw d...</td>\n",
       "      <td>70000.0</td>\n",
       "      <td>501 to 1000 Employees</td>\n",
       "      <td>Company - Private</td>\n",
       "      <td>Information Technology</td>\n",
       "      <td>Information Technology Support Services</td>\n",
       "      <td>...</td>\n",
       "      <td>CA</td>\n",
       "      <td>-1</td>\n",
       "      <td>data engineer</td>\n",
       "      <td>na</td>\n",
       "      <td>['sql', 'python', 'java']</td>\n",
       "      <td>[]</td>\n",
       "      <td>[]</td>\n",
       "      <td>[]</td>\n",
       "      <td>[]</td>\n",
       "      <td>na</td>\n",
       "    </tr>\n",
       "    <tr>\n",
       "      <th>1</th>\n",
       "      <td>Futuretech Consultants LLC</td>\n",
       "      <td>4.4</td>\n",
       "      <td>Newton, MS</td>\n",
       "      <td>Snowflake Data Engineer</td>\n",
       "      <td>My name is Dileep and I am a recruiter at Futu...</td>\n",
       "      <td>88400.0</td>\n",
       "      <td>NaN</td>\n",
       "      <td>NaN</td>\n",
       "      <td>NaN</td>\n",
       "      <td>NaN</td>\n",
       "      <td>...</td>\n",
       "      <td>MS</td>\n",
       "      <td>-1</td>\n",
       "      <td>data engineer</td>\n",
       "      <td>na</td>\n",
       "      <td>['sql', 'c']</td>\n",
       "      <td>[]</td>\n",
       "      <td>[]</td>\n",
       "      <td>[]</td>\n",
       "      <td>['snowflake']</td>\n",
       "      <td>bachelor</td>\n",
       "    </tr>\n",
       "    <tr>\n",
       "      <th>2</th>\n",
       "      <td>Clairvoyant</td>\n",
       "      <td>4.4</td>\n",
       "      <td>Remote</td>\n",
       "      <td>Data Engineer (MDM)</td>\n",
       "      <td>Required Skills:\\nMust have 5-8+ Years of expe...</td>\n",
       "      <td>140400.0</td>\n",
       "      <td>51 to 200 Employees</td>\n",
       "      <td>Company - Private</td>\n",
       "      <td>Pharmaceutical &amp; Biotechnology</td>\n",
       "      <td>Biotech &amp; Pharmaceuticals</td>\n",
       "      <td>...</td>\n",
       "      <td>Remote</td>\n",
       "      <td>-1</td>\n",
       "      <td>data engineer</td>\n",
       "      <td>na</td>\n",
       "      <td>['sql', 'python']</td>\n",
       "      <td>['aws']</td>\n",
       "      <td>[]</td>\n",
       "      <td>['spark']</td>\n",
       "      <td>[]</td>\n",
       "      <td>master</td>\n",
       "    </tr>\n",
       "    <tr>\n",
       "      <th>3</th>\n",
       "      <td>Skytech Consultancy Services</td>\n",
       "      <td>5.0</td>\n",
       "      <td>Baltimore, MD</td>\n",
       "      <td>Data Engineer</td>\n",
       "      <td>Description of Work:\\nTechnical experience in ...</td>\n",
       "      <td>135200.0</td>\n",
       "      <td>1 to 50 Employees</td>\n",
       "      <td>Company - Public</td>\n",
       "      <td>NaN</td>\n",
       "      <td>NaN</td>\n",
       "      <td>...</td>\n",
       "      <td>MD</td>\n",
       "      <td>-1</td>\n",
       "      <td>data engineer</td>\n",
       "      <td>na</td>\n",
       "      <td>['sql']</td>\n",
       "      <td>[]</td>\n",
       "      <td>['tableau']</td>\n",
       "      <td>[]</td>\n",
       "      <td>[]</td>\n",
       "      <td>bachelor</td>\n",
       "    </tr>\n",
       "    <tr>\n",
       "      <th>4</th>\n",
       "      <td>Steward Health Care</td>\n",
       "      <td>2.7</td>\n",
       "      <td>Westwood, MA</td>\n",
       "      <td>Data Engineer</td>\n",
       "      <td>Position Purpose:\\nReporting to the Manager of...</td>\n",
       "      <td>94536.0</td>\n",
       "      <td>10000+ Employees</td>\n",
       "      <td>Hospital</td>\n",
       "      <td>Healthcare</td>\n",
       "      <td>Health Care Services &amp; Hospitals</td>\n",
       "      <td>...</td>\n",
       "      <td>MA</td>\n",
       "      <td>25</td>\n",
       "      <td>data engineer</td>\n",
       "      <td>na</td>\n",
       "      <td>['sql', 'r', 'python']</td>\n",
       "      <td>[]</td>\n",
       "      <td>[]</td>\n",
       "      <td>[]</td>\n",
       "      <td>[]</td>\n",
       "      <td>bachelor</td>\n",
       "    </tr>\n",
       "  </tbody>\n",
       "</table>\n",
       "<p>5 rows × 22 columns</p>\n",
       "</div>"
      ],
      "text/plain": [
       "                        company  company_rating       location  \\\n",
       "0               PCS Global Tech             4.7  Riverside, CA   \n",
       "1    Futuretech Consultants LLC             4.4     Newton, MS   \n",
       "2                   Clairvoyant             4.4         Remote   \n",
       "3  Skytech Consultancy Services             5.0  Baltimore, MD   \n",
       "4           Steward Health Care             2.7   Westwood, MA   \n",
       "\n",
       "                       job_title  \\\n",
       "0  Data Engineer | PAID BOOTCAMP   \n",
       "1        Snowflake Data Engineer   \n",
       "2            Data Engineer (MDM)   \n",
       "3                  Data Engineer   \n",
       "4                  Data Engineer   \n",
       "\n",
       "                                     job_description  salary_estimate  \\\n",
       "0  Responsibilities\\n· Analyze and organize raw d...          70000.0   \n",
       "1  My name is Dileep and I am a recruiter at Futu...          88400.0   \n",
       "2  Required Skills:\\nMust have 5-8+ Years of expe...         140400.0   \n",
       "3  Description of Work:\\nTechnical experience in ...         135200.0   \n",
       "4  Position Purpose:\\nReporting to the Manager of...          94536.0   \n",
       "\n",
       "            company_size       company_type                  company_sector  \\\n",
       "0  501 to 1000 Employees  Company - Private          Information Technology   \n",
       "1                    NaN                NaN                             NaN   \n",
       "2    51 to 200 Employees  Company - Private  Pharmaceutical & Biotechnology   \n",
       "3      1 to 50 Employees   Company - Public                             NaN   \n",
       "4       10000+ Employees           Hospital                      Healthcare   \n",
       "\n",
       "                          company_industry  ...  job_state company_age  \\\n",
       "0  Information Technology Support Services  ...         CA          -1   \n",
       "1                                      NaN  ...         MS          -1   \n",
       "2                Biotech & Pharmaceuticals  ...     Remote          -1   \n",
       "3                                      NaN  ...         MD          -1   \n",
       "4         Health Care Services & Hospitals  ...         MA          25   \n",
       "\n",
       "        job_simp  seniority              job_languages job_cloud      job_viz  \\\n",
       "0  data engineer         na  ['sql', 'python', 'java']        []           []   \n",
       "1  data engineer         na               ['sql', 'c']        []           []   \n",
       "2  data engineer         na          ['sql', 'python']   ['aws']           []   \n",
       "3  data engineer         na                    ['sql']        []  ['tableau']   \n",
       "4  data engineer         na     ['sql', 'r', 'python']        []           []   \n",
       "\n",
       "  job_bigdata       job_data job_education  \n",
       "0          []             []            na  \n",
       "1          []  ['snowflake']      bachelor  \n",
       "2   ['spark']             []        master  \n",
       "3          []             []      bachelor  \n",
       "4          []             []      bachelor  \n",
       "\n",
       "[5 rows x 22 columns]"
      ]
     },
     "execution_count": 680,
     "metadata": {},
     "output_type": "execute_result"
    }
   ],
   "source": [
    "df = pd.read_csv(\"../data/glassdoor-data-engineer-eda.csv\")\n",
    "df.head()"
   ]
  },
  {
   "attachments": {},
   "cell_type": "markdown",
   "metadata": {},
   "source": [
    "Making a new dataframe with relevant columns for the model"
   ]
  },
  {
   "cell_type": "code",
   "execution_count": 681,
   "metadata": {},
   "outputs": [
    {
     "data": {
      "text/html": [
       "<div>\n",
       "<style scoped>\n",
       "    .dataframe tbody tr th:only-of-type {\n",
       "        vertical-align: middle;\n",
       "    }\n",
       "\n",
       "    .dataframe tbody tr th {\n",
       "        vertical-align: top;\n",
       "    }\n",
       "\n",
       "    .dataframe thead th {\n",
       "        text-align: right;\n",
       "    }\n",
       "</style>\n",
       "<table border=\"1\" class=\"dataframe\">\n",
       "  <thead>\n",
       "    <tr style=\"text-align: right;\">\n",
       "      <th></th>\n",
       "      <th>job_state</th>\n",
       "      <th>seniority</th>\n",
       "      <th>job_education</th>\n",
       "      <th>company_industry</th>\n",
       "      <th>company_rating</th>\n",
       "      <th>salary_estimate</th>\n",
       "    </tr>\n",
       "  </thead>\n",
       "  <tbody>\n",
       "    <tr>\n",
       "      <th>0</th>\n",
       "      <td>CA</td>\n",
       "      <td>na</td>\n",
       "      <td>na</td>\n",
       "      <td>Information Technology Support Services</td>\n",
       "      <td>4.7</td>\n",
       "      <td>70000.0</td>\n",
       "    </tr>\n",
       "    <tr>\n",
       "      <th>1</th>\n",
       "      <td>MS</td>\n",
       "      <td>na</td>\n",
       "      <td>bachelor</td>\n",
       "      <td>NaN</td>\n",
       "      <td>4.4</td>\n",
       "      <td>88400.0</td>\n",
       "    </tr>\n",
       "    <tr>\n",
       "      <th>2</th>\n",
       "      <td>Remote</td>\n",
       "      <td>na</td>\n",
       "      <td>master</td>\n",
       "      <td>Biotech &amp; Pharmaceuticals</td>\n",
       "      <td>4.4</td>\n",
       "      <td>140400.0</td>\n",
       "    </tr>\n",
       "    <tr>\n",
       "      <th>3</th>\n",
       "      <td>MD</td>\n",
       "      <td>na</td>\n",
       "      <td>bachelor</td>\n",
       "      <td>NaN</td>\n",
       "      <td>5.0</td>\n",
       "      <td>135200.0</td>\n",
       "    </tr>\n",
       "    <tr>\n",
       "      <th>4</th>\n",
       "      <td>MA</td>\n",
       "      <td>na</td>\n",
       "      <td>bachelor</td>\n",
       "      <td>Health Care Services &amp; Hospitals</td>\n",
       "      <td>2.7</td>\n",
       "      <td>94536.0</td>\n",
       "    </tr>\n",
       "  </tbody>\n",
       "</table>\n",
       "</div>"
      ],
      "text/plain": [
       "  job_state seniority job_education                         company_industry  \\\n",
       "0        CA        na            na  Information Technology Support Services   \n",
       "1        MS        na      bachelor                                      NaN   \n",
       "2    Remote        na        master                Biotech & Pharmaceuticals   \n",
       "3        MD        na      bachelor                                      NaN   \n",
       "4        MA        na      bachelor         Health Care Services & Hospitals   \n",
       "\n",
       "   company_rating  salary_estimate  \n",
       "0             4.7          70000.0  \n",
       "1             4.4          88400.0  \n",
       "2             4.4         140400.0  \n",
       "3             5.0         135200.0  \n",
       "4             2.7          94536.0  "
      ]
     },
     "execution_count": 681,
     "metadata": {},
     "output_type": "execute_result"
    }
   ],
   "source": [
    "cols_model = ['job_state', 'seniority', 'job_education', 'company_industry', 'company_rating', 'salary_estimate']\n",
    "\n",
    "df_model = df[cols_model]\n",
    "df_model.head()"
   ]
  },
  {
   "cell_type": "code",
   "execution_count": 682,
   "metadata": {},
   "outputs": [],
   "source": [
    "from sklearn.preprocessing import LabelEncoder"
   ]
  },
  {
   "cell_type": "code",
   "execution_count": 683,
   "metadata": {},
   "outputs": [
    {
     "name": "stderr",
     "output_type": "stream",
     "text": [
      "C:\\Users\\hamza\\AppData\\Local\\Temp\\ipykernel_14520\\99198208.py:2: SettingWithCopyWarning: \n",
      "A value is trying to be set on a copy of a slice from a DataFrame.\n",
      "Try using .loc[row_indexer,col_indexer] = value instead\n",
      "\n",
      "See the caveats in the documentation: https://pandas.pydata.org/pandas-docs/stable/user_guide/indexing.html#returning-a-view-versus-a-copy\n",
      "  df_model['job_state'] = le_state.fit_transform(df_model['job_state'])\n"
     ]
    },
    {
     "data": {
      "text/plain": [
       "array([ 0,  8, 14,  6,  5,  3, 15,  7, 10, 17,  9,  1, 18,  4, 12, 13, 16,\n",
       "       11,  2])"
      ]
     },
     "execution_count": 683,
     "metadata": {},
     "output_type": "execute_result"
    }
   ],
   "source": [
    "le_state = LabelEncoder()\n",
    "df_model['job_state'] = le_state.fit_transform(df_model['job_state'])\n",
    "df_model['job_state'].unique()"
   ]
  },
  {
   "cell_type": "code",
   "execution_count": 684,
   "metadata": {},
   "outputs": [
    {
     "name": "stderr",
     "output_type": "stream",
     "text": [
      "C:\\Users\\hamza\\AppData\\Local\\Temp\\ipykernel_14520\\2327077964.py:2: SettingWithCopyWarning: \n",
      "A value is trying to be set on a copy of a slice from a DataFrame.\n",
      "Try using .loc[row_indexer,col_indexer] = value instead\n",
      "\n",
      "See the caveats in the documentation: https://pandas.pydata.org/pandas-docs/stable/user_guide/indexing.html#returning-a-view-versus-a-copy\n",
      "  df_model['seniority'] = le_sen.fit_transform(df_model['seniority'])\n"
     ]
    },
    {
     "data": {
      "text/plain": [
       "array([0, 1])"
      ]
     },
     "execution_count": 684,
     "metadata": {},
     "output_type": "execute_result"
    }
   ],
   "source": [
    "le_sen = LabelEncoder()\n",
    "df_model['seniority'] = le_sen.fit_transform(df_model['seniority'])\n",
    "df_model['seniority'].unique()"
   ]
  },
  {
   "cell_type": "code",
   "execution_count": 685,
   "metadata": {},
   "outputs": [
    {
     "name": "stderr",
     "output_type": "stream",
     "text": [
      "C:\\Users\\hamza\\AppData\\Local\\Temp\\ipykernel_14520\\3943646228.py:2: SettingWithCopyWarning: \n",
      "A value is trying to be set on a copy of a slice from a DataFrame.\n",
      "Try using .loc[row_indexer,col_indexer] = value instead\n",
      "\n",
      "See the caveats in the documentation: https://pandas.pydata.org/pandas-docs/stable/user_guide/indexing.html#returning-a-view-versus-a-copy\n",
      "  df_model['job_education'] = le_edu.fit_transform(df_model['job_education'])\n"
     ]
    },
    {
     "data": {
      "text/plain": [
       "array([2, 0, 1])"
      ]
     },
     "execution_count": 685,
     "metadata": {},
     "output_type": "execute_result"
    }
   ],
   "source": [
    "le_edu = LabelEncoder()\n",
    "df_model['job_education'] = le_edu.fit_transform(df_model['job_education'])\n",
    "df_model['job_education'].unique()"
   ]
  },
  {
   "cell_type": "code",
   "execution_count": 686,
   "metadata": {},
   "outputs": [
    {
     "name": "stderr",
     "output_type": "stream",
     "text": [
      "C:\\Users\\hamza\\AppData\\Local\\Temp\\ipykernel_14520\\79438552.py:2: SettingWithCopyWarning: \n",
      "A value is trying to be set on a copy of a slice from a DataFrame.\n",
      "Try using .loc[row_indexer,col_indexer] = value instead\n",
      "\n",
      "See the caveats in the documentation: https://pandas.pydata.org/pandas-docs/stable/user_guide/indexing.html#returning-a-view-versus-a-copy\n",
      "  df_model['company_industry'] = le_indu.fit_transform(df_model['company_industry'])\n"
     ]
    },
    {
     "data": {
      "text/plain": [
       "array([14, 23,  5, 13, 15, 12,  8,  7, 16,  0,  6,  9, 10, 21,  3, 22,  2,\n",
       "       20, 17,  1, 19,  4, 18, 11])"
      ]
     },
     "execution_count": 686,
     "metadata": {},
     "output_type": "execute_result"
    }
   ],
   "source": [
    "le_indu = LabelEncoder()\n",
    "df_model['company_industry'] = le_indu.fit_transform(df_model['company_industry'])\n",
    "df_model['company_industry'].unique()"
   ]
  },
  {
   "cell_type": "code",
   "execution_count": 687,
   "metadata": {},
   "outputs": [
    {
     "name": "stderr",
     "output_type": "stream",
     "text": [
      "C:\\Users\\hamza\\AppData\\Local\\Temp\\ipykernel_14520\\3458811746.py:2: SettingWithCopyWarning: \n",
      "A value is trying to be set on a copy of a slice from a DataFrame.\n",
      "Try using .loc[row_indexer,col_indexer] = value instead\n",
      "\n",
      "See the caveats in the documentation: https://pandas.pydata.org/pandas-docs/stable/user_guide/indexing.html#returning-a-view-versus-a-copy\n",
      "  df_model['company_rating'] = le_rating.fit_transform(df_model['company_rating'])\n"
     ]
    },
    {
     "data": {
      "text/plain": [
       "array([21, 18, 24,  2, 12, 22, 15,  0,  5,  9, 14, 19, 16, 17,  6,  1, 10,\n",
       "       23,  3, 13, 11,  8, 20,  4,  7], dtype=int64)"
      ]
     },
     "execution_count": 687,
     "metadata": {},
     "output_type": "execute_result"
    }
   ],
   "source": [
    "le_rating = LabelEncoder()\n",
    "df_model['company_rating'] = le_rating.fit_transform(df_model['company_rating'])\n",
    "df_model['company_rating'].unique()"
   ]
  },
  {
   "cell_type": "code",
   "execution_count": 688,
   "metadata": {},
   "outputs": [
    {
     "data": {
      "text/html": [
       "<div>\n",
       "<style scoped>\n",
       "    .dataframe tbody tr th:only-of-type {\n",
       "        vertical-align: middle;\n",
       "    }\n",
       "\n",
       "    .dataframe tbody tr th {\n",
       "        vertical-align: top;\n",
       "    }\n",
       "\n",
       "    .dataframe thead th {\n",
       "        text-align: right;\n",
       "    }\n",
       "</style>\n",
       "<table border=\"1\" class=\"dataframe\">\n",
       "  <thead>\n",
       "    <tr style=\"text-align: right;\">\n",
       "      <th></th>\n",
       "      <th>job_state</th>\n",
       "      <th>seniority</th>\n",
       "      <th>job_education</th>\n",
       "      <th>company_industry</th>\n",
       "      <th>company_rating</th>\n",
       "      <th>salary_estimate</th>\n",
       "    </tr>\n",
       "  </thead>\n",
       "  <tbody>\n",
       "    <tr>\n",
       "      <th>0</th>\n",
       "      <td>0</td>\n",
       "      <td>0</td>\n",
       "      <td>2</td>\n",
       "      <td>14</td>\n",
       "      <td>21</td>\n",
       "      <td>70000.0</td>\n",
       "    </tr>\n",
       "    <tr>\n",
       "      <th>1</th>\n",
       "      <td>8</td>\n",
       "      <td>0</td>\n",
       "      <td>0</td>\n",
       "      <td>23</td>\n",
       "      <td>18</td>\n",
       "      <td>88400.0</td>\n",
       "    </tr>\n",
       "    <tr>\n",
       "      <th>2</th>\n",
       "      <td>14</td>\n",
       "      <td>0</td>\n",
       "      <td>1</td>\n",
       "      <td>5</td>\n",
       "      <td>18</td>\n",
       "      <td>140400.0</td>\n",
       "    </tr>\n",
       "    <tr>\n",
       "      <th>3</th>\n",
       "      <td>6</td>\n",
       "      <td>0</td>\n",
       "      <td>0</td>\n",
       "      <td>23</td>\n",
       "      <td>24</td>\n",
       "      <td>135200.0</td>\n",
       "    </tr>\n",
       "    <tr>\n",
       "      <th>4</th>\n",
       "      <td>5</td>\n",
       "      <td>0</td>\n",
       "      <td>0</td>\n",
       "      <td>13</td>\n",
       "      <td>2</td>\n",
       "      <td>94536.0</td>\n",
       "    </tr>\n",
       "  </tbody>\n",
       "</table>\n",
       "</div>"
      ],
      "text/plain": [
       "   job_state  seniority  job_education  company_industry  company_rating  \\\n",
       "0          0          0              2                14              21   \n",
       "1          8          0              0                23              18   \n",
       "2         14          0              1                 5              18   \n",
       "3          6          0              0                23              24   \n",
       "4          5          0              0                13               2   \n",
       "\n",
       "   salary_estimate  \n",
       "0          70000.0  \n",
       "1          88400.0  \n",
       "2         140400.0  \n",
       "3         135200.0  \n",
       "4          94536.0  "
      ]
     },
     "execution_count": 688,
     "metadata": {},
     "output_type": "execute_result"
    }
   ],
   "source": [
    "df_model.head()"
   ]
  },
  {
   "cell_type": "code",
   "execution_count": 689,
   "metadata": {},
   "outputs": [
    {
     "data": {
      "text/plain": [
       "<Axes: >"
      ]
     },
     "execution_count": 689,
     "metadata": {},
     "output_type": "execute_result"
    },
    {
     "data": {
      "image/png": "[encoded data removed]",
      "text/plain": [
       "<Figure size 1200x900 with 2 Axes>"
      ]
     },
     "metadata": {},
     "output_type": "display_data"
    }
   ],
   "source": [
    "corrmat = df_model.corr()\n",
    "plt.subplots(figsize=(12,9))\n",
    "sns.heatmap(corrmat, vmax=0.9, annot=True, square=True)"
   ]
  },
  {
   "attachments": {},
   "cell_type": "markdown",
   "metadata": {},
   "source": [
    "The salary is moderatly correlated with the seniority, company industry and company rating. Suprisingly it is negatively correlated with the education required."
   ]
  },
  {
   "cell_type": "code",
   "execution_count": 690,
   "metadata": {},
   "outputs": [],
   "source": [
    "from sklearn.ensemble import RandomForestRegressor\n",
    "from sklearn.model_selection import GridSearchCV\n",
    "from sklearn.metrics import mean_squared_error, mean_absolute_error"
   ]
  },
  {
   "cell_type": "code",
   "execution_count": 691,
   "metadata": {},
   "outputs": [],
   "source": [
    "X = df_model.drop(\"salary_estimate\", axis=1)\n",
    "y = df_model[\"salary_estimate\"].values"
   ]
  },
  {
   "cell_type": "code",
   "execution_count": 693,
   "metadata": {},
   "outputs": [
    {
     "data": {
      "text/html": [
       "<style>#sk-container-id-26 {color: black;background-color: white;}#sk-container-id-26 pre{padding: 0;}#sk-container-id-26 div.sk-toggleable {background-color: white;}#sk-container-id-26 label.sk-toggleable__label {cursor: pointer;display: block;width: 100%;margin-bottom: 0;padding: 0.3em;box-sizing: border-box;text-align: center;}#sk-container-id-26 label.sk-toggleable__label-arrow:before {content: \"▸\";float: left;margin-right: 0.25em;color: #696969;}#sk-container-id-26 label.sk-toggleable__label-arrow:hover:before {color: black;}#sk-container-id-26 div.sk-estimator:hover label.sk-toggleable__label-arrow:before {color: black;}#sk-container-id-26 div.sk-toggleable__content {max-height: 0;max-width: 0;overflow: hidden;text-align: left;background-color: #f0f8ff;}#sk-container-id-26 div.sk-toggleable__content pre {margin: 0.2em;color: black;border-radius: 0.25em;background-color: #f0f8ff;}#sk-container-id-26 input.sk-toggleable__control:checked~div.sk-toggleable__content {max-height: 200px;max-width: 100%;overflow: auto;}#sk-container-id-26 input.sk-toggleable__control:checked~label.sk-toggleable__label-arrow:before {content: \"▾\";}#sk-container-id-26 div.sk-estimator input.sk-toggleable__control:checked~label.sk-toggleable__label {background-color: #d4ebff;}#sk-container-id-26 div.sk-label input.sk-toggleable__control:checked~label.sk-toggleable__label {background-color: #d4ebff;}#sk-container-id-26 input.sk-hidden--visually {border: 0;clip: rect(1px 1px 1px 1px);clip: rect(1px, 1px, 1px, 1px);height: 1px;margin: -1px;overflow: hidden;padding: 0;position: absolute;width: 1px;}#sk-container-id-26 div.sk-estimator {font-family: monospace;background-color: #f0f8ff;border: 1px dotted black;border-radius: 0.25em;box-sizing: border-box;margin-bottom: 0.5em;}#sk-container-id-26 div.sk-estimator:hover {background-color: #d4ebff;}#sk-container-id-26 div.sk-parallel-item::after {content: \"\";width: 100%;border-bottom: 1px solid gray;flex-grow: 1;}#sk-container-id-26 div.sk-label:hover label.sk-toggleable__label {background-color: #d4ebff;}#sk-container-id-26 div.sk-serial::before {content: \"\";position: absolute;border-left: 1px solid gray;box-sizing: border-box;top: 0;bottom: 0;left: 50%;z-index: 0;}#sk-container-id-26 div.sk-serial {display: flex;flex-direction: column;align-items: center;background-color: white;padding-right: 0.2em;padding-left: 0.2em;position: relative;}#sk-container-id-26 div.sk-item {position: relative;z-index: 1;}#sk-container-id-26 div.sk-parallel {display: flex;align-items: stretch;justify-content: center;background-color: white;position: relative;}#sk-container-id-26 div.sk-item::before, #sk-container-id-26 div.sk-parallel-item::before {content: \"\";position: absolute;border-left: 1px solid gray;box-sizing: border-box;top: 0;bottom: 0;left: 50%;z-index: -1;}#sk-container-id-26 div.sk-parallel-item {display: flex;flex-direction: column;z-index: 1;position: relative;background-color: white;}#sk-container-id-26 div.sk-parallel-item:first-child::after {align-self: flex-end;width: 50%;}#sk-container-id-26 div.sk-parallel-item:last-child::after {align-self: flex-start;width: 50%;}#sk-container-id-26 div.sk-parallel-item:only-child::after {width: 0;}#sk-container-id-26 div.sk-dashed-wrapped {border: 1px dashed gray;margin: 0 0.4em 0.5em 0.4em;box-sizing: border-box;padding-bottom: 0.4em;background-color: white;}#sk-container-id-26 div.sk-label label {font-family: monospace;font-weight: bold;display: inline-block;line-height: 1.2em;}#sk-container-id-26 div.sk-label-container {text-align: center;}#sk-container-id-26 div.sk-container {/* jupyter's `normalize.less` sets `[hidden] { display: none; }` but bootstrap.min.css set `[hidden] { display: none !important; }` so we also need the `!important` here to be able to override the default hidden behavior on the sphinx rendered scikit-learn.org. See: https://github.com/scikit-learn/scikit-learn/issues/21755 */display: inline-block !important;position: relative;}#sk-container-id-26 div.sk-text-repr-fallback {display: none;}</style><div id=\"sk-container-id-26\" class=\"sk-top-container\"><div class=\"sk-text-repr-fallback\"><pre>GridSearchCV(estimator=RandomForestRegressor(random_state=0),\n",
       "             param_grid={&#x27;max_depth&#x27;: [None, 2, 4, 6, 8, 10, 12]},\n",
       "             scoring=&#x27;neg_mean_squared_error&#x27;)</pre><b>In a Jupyter environment, please rerun this cell to show the HTML representation or trust the notebook. <br />On GitHub, the HTML representation is unable to render, please try loading this page with nbviewer.org.</b></div><div class=\"sk-container\" hidden><div class=\"sk-item sk-dashed-wrapped\"><div class=\"sk-label-container\"><div class=\"sk-label sk-toggleable\"><input class=\"sk-toggleable__control sk-hidden--visually\" id=\"sk-estimator-id-74\" type=\"checkbox\" ><label for=\"sk-estimator-id-74\" class=\"sk-toggleable__label sk-toggleable__label-arrow\">GridSearchCV</label><div class=\"sk-toggleable__content\"><pre>GridSearchCV(estimator=RandomForestRegressor(random_state=0),\n",
       "             param_grid={&#x27;max_depth&#x27;: [None, 2, 4, 6, 8, 10, 12]},\n",
       "             scoring=&#x27;neg_mean_squared_error&#x27;)</pre></div></div></div><div class=\"sk-parallel\"><div class=\"sk-parallel-item\"><div class=\"sk-item\"><div class=\"sk-label-container\"><div class=\"sk-label sk-toggleable\"><input class=\"sk-toggleable__control sk-hidden--visually\" id=\"sk-estimator-id-75\" type=\"checkbox\" ><label for=\"sk-estimator-id-75\" class=\"sk-toggleable__label sk-toggleable__label-arrow\">estimator: RandomForestRegressor</label><div class=\"sk-toggleable__content\"><pre>RandomForestRegressor(random_state=0)</pre></div></div></div><div class=\"sk-serial\"><div class=\"sk-item\"><div class=\"sk-estimator sk-toggleable\"><input class=\"sk-toggleable__control sk-hidden--visually\" id=\"sk-estimator-id-76\" type=\"checkbox\" ><label for=\"sk-estimator-id-76\" class=\"sk-toggleable__label sk-toggleable__label-arrow\">RandomForestRegressor</label><div class=\"sk-toggleable__content\"><pre>RandomForestRegressor(random_state=0)</pre></div></div></div></div></div></div></div></div></div></div>"
      ],
      "text/plain": [
       "GridSearchCV(estimator=RandomForestRegressor(random_state=0),\n",
       "             param_grid={'max_depth': [None, 2, 4, 6, 8, 10, 12]},\n",
       "             scoring='neg_mean_squared_error')"
      ]
     },
     "execution_count": 693,
     "metadata": {},
     "output_type": "execute_result"
    }
   ],
   "source": [
    "max_depth = [None, 2, 4, 6, 8, 10, 12]\n",
    "\n",
    "parameters = {\"max_depth\": max_depth}\n",
    "\n",
    "regressor = RandomForestRegressor(random_state=0)\n",
    "gs = GridSearchCV(regressor, parameters, scoring='neg_mean_squared_error')\n",
    "gs.fit(X, y)"
   ]
  },
  {
   "cell_type": "code",
   "execution_count": 694,
   "metadata": {},
   "outputs": [
    {
     "name": "stdout",
     "output_type": "stream",
     "text": [
      "Error : $5,915.58\n"
     ]
    }
   ],
   "source": [
    "regressor = gs.best_estimator_\n",
    "\n",
    "regressor.fit(X, y)\n",
    "y_pred = regressor.predict(X)\n",
    "error = np.sqrt(mean_squared_error(y, y_pred))\n",
    "print(\"Error : ${:,.02f}\".format(error))    "
   ]
  },
  {
   "attachments": {},
   "cell_type": "markdown",
   "metadata": {},
   "source": [
    "Let's test our model on an example"
   ]
  },
  {
   "cell_type": "code",
   "execution_count": 695,
   "metadata": {},
   "outputs": [],
   "source": [
    "# job_state, seniority, job_education, company_industry, company_rating\n",
    "\n",
    "X_example =  np.array([[\"CA\", \"senior\", \"bachelor\", \"Information Technology Support Services\", 4.7]])"
   ]
  },
  {
   "cell_type": "code",
   "execution_count": 696,
   "metadata": {},
   "outputs": [
    {
     "data": {
      "text/plain": [
       "array([[ 0.,  1.,  0., 14., 21.]])"
      ]
     },
     "execution_count": 696,
     "metadata": {},
     "output_type": "execute_result"
    }
   ],
   "source": [
    "X_example[:, 0] = le_state.transform(X_example[:,0])\n",
    "X_example[:, 1] = le_sen.transform(X_example[:,1])\n",
    "X_example[:, 2] = le_edu.transform(X_example[:,2])\n",
    "X_example[:, 3] = le_indu.transform(X_example[:,3])\n",
    "X_example[:, 4] = le_rating.transform(X_example[:,4])\n",
    "\n",
    "X_example = X_example.astype(float)\n",
    "X_example"
   ]
  },
  {
   "cell_type": "code",
   "execution_count": 697,
   "metadata": {},
   "outputs": [
    {
     "name": "stderr",
     "output_type": "stream",
     "text": [
      "c:\\Python310\\lib\\site-packages\\sklearn\\base.py:420: UserWarning: X does not have valid feature names, but RandomForestRegressor was fitted with feature names\n",
      "  warnings.warn(\n"
     ]
    },
    {
     "data": {
      "text/plain": [
       "array([97458.45])"
      ]
     },
     "execution_count": 697,
     "metadata": {},
     "output_type": "execute_result"
    }
   ],
   "source": [
    "y_pred = regressor.predict(X_example)\n",
    "y_pred"
   ]
  },
  {
   "attachments": {},
   "cell_type": "markdown",
   "metadata": {},
   "source": [
    "For a senior data engineer who's looking to work in California (CA) state, with a bachelor and in a company in the IT Support Services industry that has a 4.7 rating on Glassdoor, he is expected to get $97,458 /year."
   ]
  }
 ],
 "metadata": {
  "kernelspec": {
   "display_name": "Python 3",
   "language": "python",
   "name": "python3"
  },
  "language_info": {
   "codemirror_mode": {
    "name": "ipython",
    "version": 3
   },
   "file_extension": ".py",
   "mimetype": "text/x-python",
   "name": "python",
   "nbconvert_exporter": "python",
   "pygments_lexer": "ipython3",
   "version": "3.10.5"
  },
  "orig_nbformat": 4
 },
 "nbformat": 4,
 "nbformat_minor": 2
}
