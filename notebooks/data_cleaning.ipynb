{
 "cells": [
  {
   "attachments": {},
   "cell_type": "markdown",
   "metadata": {},
   "source": [
    "# Data Engineering Jobs Exploration and Salary Prediction Project based on Glassdoor Listed Jobs 2023"
   ]
  },
  {
   "attachments": {},
   "cell_type": "markdown",
   "metadata": {},
   "source": [
    "## I. 🧹 Data Cleaning"
   ]
  },
  {
   "cell_type": "code",
   "execution_count": 46,
   "metadata": {},
   "outputs": [],
   "source": [
    "import pandas as pd\n",
    "import numpy as np\n",
    "import os"
   ]
  },
  {
   "attachments": {},
   "cell_type": "markdown",
   "metadata": {},
   "source": [
    "### Loading the data from the scraped csv files"
   ]
  },
  {
   "attachments": {},
   "cell_type": "markdown",
   "metadata": {},
   "source": [
    "The datasets names is composed of the week number of the year and the year they were scraped in. For example \"glassdoor-data-engineer-19-2023\" was scraped on the 19th week of 2023."
   ]
  },
  {
   "cell_type": "code",
   "execution_count": 47,
   "metadata": {},
   "outputs": [],
   "source": [
    "def load_datasets(dir_path):\n",
    "\n",
    "    dfs = []\n",
    "\n",
    "    # loop over each file in the directory\n",
    "    for i, filename in enumerate(os.listdir(dir_path)):\n",
    "        if filename.endswith('.csv'):  # check if file has .csv extension\n",
    "            file_path = os.path.join(dir_path, filename)  \n",
    "            # read the CSV file into a DataFrame and give it a name\n",
    "            df_name = f'df{i+1}'  # generate a name like 'df1', 'df2', etc.\n",
    "            df = pd.read_csv(file_path)\n",
    "            # add the DataFrame to the list\n",
    "            dfs.append((df_name, df))\n",
    "\n",
    "    # concatenate all the DataFrames together\n",
    "    df_list = [df for _, df in dfs]  # extract just the DataFrames\n",
    "    df = pd.concat(df_list, axis=0)\n",
    "\n",
    "    return df"
   ]
  },
  {
   "cell_type": "code",
   "execution_count": 48,
   "metadata": {},
   "outputs": [
    {
     "data": {
      "text/plain": [
       "(2460, 12)"
      ]
     },
     "execution_count": 48,
     "metadata": {},
     "output_type": "execute_result"
    }
   ],
   "source": [
    "dir_path = \"../data/raw/\"\n",
    "\n",
    "df = load_datasets(dir_path)\n",
    "df.shape"
   ]
  },
  {
   "attachments": {},
   "cell_type": "markdown",
   "metadata": {},
   "source": [
    "Let's drop the duplicated job listings from our dataset"
   ]
  },
  {
   "cell_type": "code",
   "execution_count": 49,
   "metadata": {},
   "outputs": [
    {
     "data": {
      "text/plain": [
       "(557, 12)"
      ]
     },
     "execution_count": 49,
     "metadata": {},
     "output_type": "execute_result"
    }
   ],
   "source": [
    "df = df.drop_duplicates(subset=['job_description'])\n",
    "df.shape"
   ]
  },
  {
   "attachments": {},
   "cell_type": "markdown",
   "metadata": {},
   "source": [
    "📘 Let's export this uncleaned raw data and share it publicly on Kaggle"
   ]
  },
  {
   "cell_type": "code",
   "execution_count": 50,
   "metadata": {},
   "outputs": [],
   "source": [
    "data_path = '../data/kaggle/'\n",
    "\n",
    "df.to_csv(data_path + \"glassdoor-data-engineer-kaggle.csv\", index=False)"
   ]
  },
  {
   "attachments": {},
   "cell_type": "markdown",
   "metadata": {},
   "source": [
    "### Cleaning the Data"
   ]
  },
  {
   "attachments": {},
   "cell_type": "markdown",
   "metadata": {},
   "source": [
    "Checking the null values"
   ]
  },
  {
   "cell_type": "code",
   "execution_count": 51,
   "metadata": {},
   "outputs": [
    {
     "data": {
      "text/plain": [
       "company               3\n",
       "company_rating      100\n",
       "location              1\n",
       "job_title             1\n",
       "job_description       1\n",
       "salary_estimate      93\n",
       "company_size         62\n",
       "company_type         62\n",
       "company_sector      164\n",
       "company_industry    164\n",
       "company_founded     209\n",
       "company_revenue      62\n",
       "dtype: int64"
      ]
     },
     "execution_count": 51,
     "metadata": {},
     "output_type": "execute_result"
    }
   ],
   "source": [
    "df.isnull().sum()"
   ]
  },
  {
   "attachments": {},
   "cell_type": "markdown",
   "metadata": {},
   "source": [
    "The most important column is \"company\", if it's null that means that the job didn't get scraped and therefore the other columns would alsoe be null"
   ]
  },
  {
   "cell_type": "code",
   "execution_count": 52,
   "metadata": {},
   "outputs": [],
   "source": [
    "df = df.dropna(subset=['company'])"
   ]
  },
  {
   "cell_type": "code",
   "execution_count": 53,
   "metadata": {},
   "outputs": [
    {
     "data": {
      "text/plain": [
       "company               0\n",
       "company_rating       97\n",
       "location              0\n",
       "job_title             0\n",
       "job_description       0\n",
       "salary_estimate      92\n",
       "company_size         61\n",
       "company_type         61\n",
       "company_sector      163\n",
       "company_industry    163\n",
       "company_founded     208\n",
       "company_revenue      61\n",
       "dtype: int64"
      ]
     },
     "execution_count": 53,
     "metadata": {},
     "output_type": "execute_result"
    }
   ],
   "source": [
    "df.isnull().sum()"
   ]
  },
  {
   "attachments": {},
   "cell_type": "markdown",
   "metadata": {},
   "source": [
    "Cleaning the company name by removing the associated rating"
   ]
  },
  {
   "cell_type": "code",
   "execution_count": 54,
   "metadata": {},
   "outputs": [
    {
     "data": {
      "text/html": [
       "<div>\n",
       "<style scoped>\n",
       "    .dataframe tbody tr th:only-of-type {\n",
       "        vertical-align: middle;\n",
       "    }\n",
       "\n",
       "    .dataframe tbody tr th {\n",
       "        vertical-align: top;\n",
       "    }\n",
       "\n",
       "    .dataframe thead th {\n",
       "        text-align: right;\n",
       "    }\n",
       "</style>\n",
       "<table border=\"1\" class=\"dataframe\">\n",
       "  <thead>\n",
       "    <tr style=\"text-align: right;\">\n",
       "      <th></th>\n",
       "      <th>company</th>\n",
       "      <th>company_rating</th>\n",
       "      <th>location</th>\n",
       "      <th>job_title</th>\n",
       "      <th>job_description</th>\n",
       "      <th>salary_estimate</th>\n",
       "      <th>company_size</th>\n",
       "      <th>company_type</th>\n",
       "      <th>company_sector</th>\n",
       "      <th>company_industry</th>\n",
       "      <th>company_founded</th>\n",
       "      <th>company_revenue</th>\n",
       "    </tr>\n",
       "  </thead>\n",
       "  <tbody>\n",
       "    <tr>\n",
       "      <th>0</th>\n",
       "      <td>PCS Global Tech</td>\n",
       "      <td>4.7</td>\n",
       "      <td>Riverside, CA</td>\n",
       "      <td>Data Engineer | PAID BOOTCAMP</td>\n",
       "      <td>Responsibilities\\r\\n· Analyze and organize raw...</td>\n",
       "      <td>$70,000 /yr (est.)</td>\n",
       "      <td>501 to 1000 Employees</td>\n",
       "      <td>Company - Private</td>\n",
       "      <td>Information Technology</td>\n",
       "      <td>Information Technology Support Services</td>\n",
       "      <td>NaN</td>\n",
       "      <td>Unknown / Non-Applicable</td>\n",
       "    </tr>\n",
       "    <tr>\n",
       "      <th>1</th>\n",
       "      <td>Futuretech Consultants LLC</td>\n",
       "      <td>NaN</td>\n",
       "      <td>Newton, MS</td>\n",
       "      <td>Snowflake Data Engineer</td>\n",
       "      <td>My name is Dileep and I am a recruiter at Futu...</td>\n",
       "      <td>$42.50 /hr (est.)</td>\n",
       "      <td>NaN</td>\n",
       "      <td>NaN</td>\n",
       "      <td>NaN</td>\n",
       "      <td>NaN</td>\n",
       "      <td>NaN</td>\n",
       "      <td>NaN</td>\n",
       "    </tr>\n",
       "    <tr>\n",
       "      <th>2</th>\n",
       "      <td>Clairvoyant</td>\n",
       "      <td>4.4</td>\n",
       "      <td>Remote</td>\n",
       "      <td>Data Engineer (MDM)</td>\n",
       "      <td>Required Skills:\\r\\nMust have 5-8+ Years of ex...</td>\n",
       "      <td>$67.50 /hr (est.)</td>\n",
       "      <td>51 to 200 Employees</td>\n",
       "      <td>Company - Private</td>\n",
       "      <td>Pharmaceutical &amp; Biotechnology</td>\n",
       "      <td>Biotech &amp; Pharmaceuticals</td>\n",
       "      <td>NaN</td>\n",
       "      <td>Unknown / Non-Applicable</td>\n",
       "    </tr>\n",
       "    <tr>\n",
       "      <th>3</th>\n",
       "      <td>Apple</td>\n",
       "      <td>4.2</td>\n",
       "      <td>Cupertino, CA</td>\n",
       "      <td>Data Engineer</td>\n",
       "      <td>Summary\\r\\nPosted: Dec 22, 2021\\r\\nWeekly Hour...</td>\n",
       "      <td>NaN</td>\n",
       "      <td>10000+ Employees</td>\n",
       "      <td>Company - Public</td>\n",
       "      <td>Information Technology</td>\n",
       "      <td>Computer Hardware Development</td>\n",
       "      <td>1976.0</td>\n",
       "      <td>$10+ billion (USD)</td>\n",
       "    </tr>\n",
       "    <tr>\n",
       "      <th>4</th>\n",
       "      <td>Skytech Consultancy Services</td>\n",
       "      <td>5.0</td>\n",
       "      <td>Baltimore, MD</td>\n",
       "      <td>Data Engineer</td>\n",
       "      <td>Description of Work:\\r\\nTechnical experience i...</td>\n",
       "      <td>$65.00 /hr (est.)</td>\n",
       "      <td>1 to 50 Employees</td>\n",
       "      <td>Company - Public</td>\n",
       "      <td>NaN</td>\n",
       "      <td>NaN</td>\n",
       "      <td>NaN</td>\n",
       "      <td>Unknown / Non-Applicable</td>\n",
       "    </tr>\n",
       "  </tbody>\n",
       "</table>\n",
       "</div>"
      ],
      "text/plain": [
       "                        company  company_rating       location  \\\n",
       "0               PCS Global Tech             4.7  Riverside, CA   \n",
       "1    Futuretech Consultants LLC             NaN     Newton, MS   \n",
       "2                   Clairvoyant             4.4         Remote   \n",
       "3                         Apple             4.2  Cupertino, CA   \n",
       "4  Skytech Consultancy Services             5.0  Baltimore, MD   \n",
       "\n",
       "                       job_title  \\\n",
       "0  Data Engineer | PAID BOOTCAMP   \n",
       "1        Snowflake Data Engineer   \n",
       "2            Data Engineer (MDM)   \n",
       "3                  Data Engineer   \n",
       "4                  Data Engineer   \n",
       "\n",
       "                                     job_description     salary_estimate  \\\n",
       "0  Responsibilities\\r\\n· Analyze and organize raw...  $70,000 /yr (est.)   \n",
       "1  My name is Dileep and I am a recruiter at Futu...   $42.50 /hr (est.)   \n",
       "2  Required Skills:\\r\\nMust have 5-8+ Years of ex...   $67.50 /hr (est.)   \n",
       "3  Summary\\r\\nPosted: Dec 22, 2021\\r\\nWeekly Hour...                 NaN   \n",
       "4  Description of Work:\\r\\nTechnical experience i...   $65.00 /hr (est.)   \n",
       "\n",
       "            company_size       company_type                  company_sector  \\\n",
       "0  501 to 1000 Employees  Company - Private          Information Technology   \n",
       "1                    NaN                NaN                             NaN   \n",
       "2    51 to 200 Employees  Company - Private  Pharmaceutical & Biotechnology   \n",
       "3       10000+ Employees   Company - Public          Information Technology   \n",
       "4      1 to 50 Employees   Company - Public                             NaN   \n",
       "\n",
       "                          company_industry  company_founded  \\\n",
       "0  Information Technology Support Services              NaN   \n",
       "1                                      NaN              NaN   \n",
       "2                Biotech & Pharmaceuticals              NaN   \n",
       "3            Computer Hardware Development           1976.0   \n",
       "4                                      NaN              NaN   \n",
       "\n",
       "            company_revenue  \n",
       "0  Unknown / Non-Applicable  \n",
       "1                       NaN  \n",
       "2  Unknown / Non-Applicable  \n",
       "3        $10+ billion (USD)  \n",
       "4  Unknown / Non-Applicable  "
      ]
     },
     "execution_count": 54,
     "metadata": {},
     "output_type": "execute_result"
    }
   ],
   "source": [
    "df['company'] = df['company'].apply(lambda x: x.split('\\n')[0].strip())\n",
    "df.head()"
   ]
  },
  {
   "attachments": {},
   "cell_type": "markdown",
   "metadata": {},
   "source": [
    "Correctly formating the salary estimate, and converting the hourly to annually"
   ]
  },
  {
   "cell_type": "code",
   "execution_count": 55,
   "metadata": {},
   "outputs": [],
   "source": [
    "import re\n",
    "\n",
    "def clean_salary(salary_string):\n",
    "\n",
    "    if pd.isnull(salary_string):\n",
    "        return np.nan\n",
    "    else:\n",
    "        match_year = re.search(r'\\$(\\d{1,3},?\\d{0,3},?\\d{0,3}) \\/yr \\(est.\\)', salary_string)\n",
    "        match_hour = re.search(r'\\$(\\d+(\\.\\d+)?) \\/hr \\(est.\\)', salary_string)\n",
    "\n",
    "        if match_year:\n",
    "            salary_amount = float(match_year.group(1).replace(',', ''))\n",
    "        elif match_hour:\n",
    "            hourly_salary = float(match_hour.group(1))\n",
    "            salary_amount = hourly_salary * 1800\n",
    "        else:\n",
    "            salary_amount = np.nan\n",
    "\n",
    "        return salary_amount"
   ]
  },
  {
   "cell_type": "code",
   "execution_count": 56,
   "metadata": {},
   "outputs": [],
   "source": [
    "df['salary_estimate'] = df['salary_estimate'].apply(clean_salary)"
   ]
  },
  {
   "cell_type": "code",
   "execution_count": 57,
   "metadata": {},
   "outputs": [
    {
     "data": {
      "text/plain": [
       "0     70000.0\n",
       "1     76500.0\n",
       "2    121500.0\n",
       "3         NaN\n",
       "4    117000.0\n",
       "Name: salary_estimate, dtype: float64"
      ]
     },
     "execution_count": 57,
     "metadata": {},
     "output_type": "execute_result"
    }
   ],
   "source": [
    "df['salary_estimate'].head()"
   ]
  },
  {
   "attachments": {},
   "cell_type": "markdown",
   "metadata": {},
   "source": [
    "Now let's replace the null salary estimates with the mean"
   ]
  },
  {
   "cell_type": "code",
   "execution_count": 58,
   "metadata": {},
   "outputs": [],
   "source": [
    "df['salary_estimate'].fillna(df['salary_estimate'].mean(), inplace=True)"
   ]
  },
  {
   "attachments": {},
   "cell_type": "markdown",
   "metadata": {},
   "source": [
    "Let's round the clean salary estimate"
   ]
  },
  {
   "cell_type": "code",
   "execution_count": 59,
   "metadata": {},
   "outputs": [],
   "source": [
    "df['salary_estimate'] = df['salary_estimate'].round().astype(int)"
   ]
  },
  {
   "cell_type": "code",
   "execution_count": 60,
   "metadata": {},
   "outputs": [
    {
     "data": {
      "text/html": [
       "<div>\n",
       "<style scoped>\n",
       "    .dataframe tbody tr th:only-of-type {\n",
       "        vertical-align: middle;\n",
       "    }\n",
       "\n",
       "    .dataframe tbody tr th {\n",
       "        vertical-align: top;\n",
       "    }\n",
       "\n",
       "    .dataframe thead th {\n",
       "        text-align: right;\n",
       "    }\n",
       "</style>\n",
       "<table border=\"1\" class=\"dataframe\">\n",
       "  <thead>\n",
       "    <tr style=\"text-align: right;\">\n",
       "      <th></th>\n",
       "      <th>company</th>\n",
       "      <th>company_rating</th>\n",
       "      <th>location</th>\n",
       "      <th>job_title</th>\n",
       "      <th>job_description</th>\n",
       "      <th>salary_estimate</th>\n",
       "      <th>company_size</th>\n",
       "      <th>company_type</th>\n",
       "      <th>company_sector</th>\n",
       "      <th>company_industry</th>\n",
       "      <th>company_founded</th>\n",
       "      <th>company_revenue</th>\n",
       "    </tr>\n",
       "  </thead>\n",
       "  <tbody>\n",
       "    <tr>\n",
       "      <th>0</th>\n",
       "      <td>PCS Global Tech</td>\n",
       "      <td>4.7</td>\n",
       "      <td>Riverside, CA</td>\n",
       "      <td>Data Engineer | PAID BOOTCAMP</td>\n",
       "      <td>Responsibilities\\r\\n· Analyze and organize raw...</td>\n",
       "      <td>70000</td>\n",
       "      <td>501 to 1000 Employees</td>\n",
       "      <td>Company - Private</td>\n",
       "      <td>Information Technology</td>\n",
       "      <td>Information Technology Support Services</td>\n",
       "      <td>NaN</td>\n",
       "      <td>Unknown / Non-Applicable</td>\n",
       "    </tr>\n",
       "    <tr>\n",
       "      <th>1</th>\n",
       "      <td>Futuretech Consultants LLC</td>\n",
       "      <td>NaN</td>\n",
       "      <td>Newton, MS</td>\n",
       "      <td>Snowflake Data Engineer</td>\n",
       "      <td>My name is Dileep and I am a recruiter at Futu...</td>\n",
       "      <td>76500</td>\n",
       "      <td>NaN</td>\n",
       "      <td>NaN</td>\n",
       "      <td>NaN</td>\n",
       "      <td>NaN</td>\n",
       "      <td>NaN</td>\n",
       "      <td>NaN</td>\n",
       "    </tr>\n",
       "    <tr>\n",
       "      <th>2</th>\n",
       "      <td>Clairvoyant</td>\n",
       "      <td>4.4</td>\n",
       "      <td>Remote</td>\n",
       "      <td>Data Engineer (MDM)</td>\n",
       "      <td>Required Skills:\\r\\nMust have 5-8+ Years of ex...</td>\n",
       "      <td>121500</td>\n",
       "      <td>51 to 200 Employees</td>\n",
       "      <td>Company - Private</td>\n",
       "      <td>Pharmaceutical &amp; Biotechnology</td>\n",
       "      <td>Biotech &amp; Pharmaceuticals</td>\n",
       "      <td>NaN</td>\n",
       "      <td>Unknown / Non-Applicable</td>\n",
       "    </tr>\n",
       "    <tr>\n",
       "      <th>3</th>\n",
       "      <td>Apple</td>\n",
       "      <td>4.2</td>\n",
       "      <td>Cupertino, CA</td>\n",
       "      <td>Data Engineer</td>\n",
       "      <td>Summary\\r\\nPosted: Dec 22, 2021\\r\\nWeekly Hour...</td>\n",
       "      <td>111739</td>\n",
       "      <td>10000+ Employees</td>\n",
       "      <td>Company - Public</td>\n",
       "      <td>Information Technology</td>\n",
       "      <td>Computer Hardware Development</td>\n",
       "      <td>1976.0</td>\n",
       "      <td>$10+ billion (USD)</td>\n",
       "    </tr>\n",
       "    <tr>\n",
       "      <th>4</th>\n",
       "      <td>Skytech Consultancy Services</td>\n",
       "      <td>5.0</td>\n",
       "      <td>Baltimore, MD</td>\n",
       "      <td>Data Engineer</td>\n",
       "      <td>Description of Work:\\r\\nTechnical experience i...</td>\n",
       "      <td>117000</td>\n",
       "      <td>1 to 50 Employees</td>\n",
       "      <td>Company - Public</td>\n",
       "      <td>NaN</td>\n",
       "      <td>NaN</td>\n",
       "      <td>NaN</td>\n",
       "      <td>Unknown / Non-Applicable</td>\n",
       "    </tr>\n",
       "  </tbody>\n",
       "</table>\n",
       "</div>"
      ],
      "text/plain": [
       "                        company  company_rating       location  \\\n",
       "0               PCS Global Tech             4.7  Riverside, CA   \n",
       "1    Futuretech Consultants LLC             NaN     Newton, MS   \n",
       "2                   Clairvoyant             4.4         Remote   \n",
       "3                         Apple             4.2  Cupertino, CA   \n",
       "4  Skytech Consultancy Services             5.0  Baltimore, MD   \n",
       "\n",
       "                       job_title  \\\n",
       "0  Data Engineer | PAID BOOTCAMP   \n",
       "1        Snowflake Data Engineer   \n",
       "2            Data Engineer (MDM)   \n",
       "3                  Data Engineer   \n",
       "4                  Data Engineer   \n",
       "\n",
       "                                     job_description  salary_estimate  \\\n",
       "0  Responsibilities\\r\\n· Analyze and organize raw...            70000   \n",
       "1  My name is Dileep and I am a recruiter at Futu...            76500   \n",
       "2  Required Skills:\\r\\nMust have 5-8+ Years of ex...           121500   \n",
       "3  Summary\\r\\nPosted: Dec 22, 2021\\r\\nWeekly Hour...           111739   \n",
       "4  Description of Work:\\r\\nTechnical experience i...           117000   \n",
       "\n",
       "            company_size       company_type                  company_sector  \\\n",
       "0  501 to 1000 Employees  Company - Private          Information Technology   \n",
       "1                    NaN                NaN                             NaN   \n",
       "2    51 to 200 Employees  Company - Private  Pharmaceutical & Biotechnology   \n",
       "3       10000+ Employees   Company - Public          Information Technology   \n",
       "4      1 to 50 Employees   Company - Public                             NaN   \n",
       "\n",
       "                          company_industry  company_founded  \\\n",
       "0  Information Technology Support Services              NaN   \n",
       "1                                      NaN              NaN   \n",
       "2                Biotech & Pharmaceuticals              NaN   \n",
       "3            Computer Hardware Development           1976.0   \n",
       "4                                      NaN              NaN   \n",
       "\n",
       "            company_revenue  \n",
       "0  Unknown / Non-Applicable  \n",
       "1                       NaN  \n",
       "2  Unknown / Non-Applicable  \n",
       "3        $10+ billion (USD)  \n",
       "4  Unknown / Non-Applicable  "
      ]
     },
     "execution_count": 60,
     "metadata": {},
     "output_type": "execute_result"
    }
   ],
   "source": [
    "df.head()"
   ]
  },
  {
   "attachments": {},
   "cell_type": "markdown",
   "metadata": {},
   "source": [
    "Extracting the state from the job location"
   ]
  },
  {
   "cell_type": "code",
   "execution_count": 61,
   "metadata": {},
   "outputs": [],
   "source": [
    "df['location'] = df['location'].astype(str)\n",
    "df['job_state'] = df['location'].apply(lambda x: x if x.lower() == 'remote' else x.split(', ')[-1])"
   ]
  },
  {
   "cell_type": "code",
   "execution_count": 62,
   "metadata": {},
   "outputs": [
    {
     "data": {
      "text/plain": [
       "Remote            95\n",
       "TX                56\n",
       "CA                51\n",
       "GA                34\n",
       "NJ                29\n",
       "NY                23\n",
       "VA                23\n",
       "MA                22\n",
       "United States     20\n",
       "FL                17\n",
       "DC                17\n",
       "IL                15\n",
       "NC                14\n",
       "PA                13\n",
       "MN                12\n",
       "CO                11\n",
       "OH                10\n",
       "MD                10\n",
       "OR                 7\n",
       "WI                 7\n",
       "UT                 6\n",
       "WA                 6\n",
       "MI                 5\n",
       "MO                 4\n",
       "DE                 4\n",
       "TN                 4\n",
       "SC                 4\n",
       "CT                 3\n",
       "AZ                 3\n",
       "California         2\n",
       "Pennsylvania       2\n",
       "AR                 2\n",
       "Minnesota          2\n",
       "Oregon             2\n",
       "IA                 2\n",
       "MS                 2\n",
       "OK                 2\n",
       "Illinois           1\n",
       "North Carolina     1\n",
       "AL                 1\n",
       "KS                 1\n",
       "NE                 1\n",
       "Virginia           1\n",
       "KY                 1\n",
       "Manhattan          1\n",
       "ME                 1\n",
       "IN                 1\n",
       "WV                 1\n",
       "Texas              1\n",
       "Ohio               1\n",
       "Name: job_state, dtype: int64"
      ]
     },
     "execution_count": 62,
     "metadata": {},
     "output_type": "execute_result"
    }
   ],
   "source": [
    "df.job_state.value_counts()"
   ]
  },
  {
   "attachments": {},
   "cell_type": "markdown",
   "metadata": {},
   "source": [
    "Replacing the 'United States' in job_state with the most common state (the state should not be Remote)"
   ]
  },
  {
   "cell_type": "code",
   "execution_count": 63,
   "metadata": {},
   "outputs": [
    {
     "data": {
      "text/plain": [
       "'TX'"
      ]
     },
     "execution_count": 63,
     "metadata": {},
     "output_type": "execute_result"
    }
   ],
   "source": [
    "common_states = df.job_state.value_counts().index.tolist()\n",
    "common_state = next((state for state in common_states if state != 'Remote'), None)\n",
    "common_state"
   ]
  },
  {
   "cell_type": "code",
   "execution_count": 64,
   "metadata": {},
   "outputs": [
    {
     "data": {
      "text/plain": [
       "Remote            95\n",
       "TX                76\n",
       "CA                51\n",
       "GA                34\n",
       "NJ                29\n",
       "VA                23\n",
       "NY                23\n",
       "MA                22\n",
       "FL                17\n",
       "DC                17\n",
       "IL                15\n",
       "NC                14\n",
       "PA                13\n",
       "MN                12\n",
       "CO                11\n",
       "OH                10\n",
       "MD                10\n",
       "WI                 7\n",
       "OR                 7\n",
       "UT                 6\n",
       "WA                 6\n",
       "MI                 5\n",
       "MO                 4\n",
       "DE                 4\n",
       "TN                 4\n",
       "SC                 4\n",
       "CT                 3\n",
       "AZ                 3\n",
       "California         2\n",
       "Pennsylvania       2\n",
       "AR                 2\n",
       "Minnesota          2\n",
       "Oregon             2\n",
       "IA                 2\n",
       "MS                 2\n",
       "OK                 2\n",
       "Illinois           1\n",
       "North Carolina     1\n",
       "AL                 1\n",
       "KS                 1\n",
       "NE                 1\n",
       "Virginia           1\n",
       "KY                 1\n",
       "Manhattan          1\n",
       "ME                 1\n",
       "IN                 1\n",
       "WV                 1\n",
       "Texas              1\n",
       "Ohio               1\n",
       "Name: job_state, dtype: int64"
      ]
     },
     "execution_count": 64,
     "metadata": {},
     "output_type": "execute_result"
    }
   ],
   "source": [
    "df['job_state']= df['job_state'].replace('United States', common_state)\n",
    "df.job_state.value_counts()"
   ]
  },
  {
   "attachments": {},
   "cell_type": "markdown",
   "metadata": {},
   "source": [
    "Replacing company rating null values with median"
   ]
  },
  {
   "cell_type": "code",
   "execution_count": 65,
   "metadata": {},
   "outputs": [
    {
     "data": {
      "text/plain": [
       "4.0"
      ]
     },
     "execution_count": 65,
     "metadata": {},
     "output_type": "execute_result"
    }
   ],
   "source": [
    "cr_median = df.company_rating.mean()\n",
    "cr_median = round(cr_median, 1)\n",
    "cr_median"
   ]
  },
  {
   "cell_type": "code",
   "execution_count": 66,
   "metadata": {},
   "outputs": [],
   "source": [
    "df['company_rating'] = df['company_rating'].fillna(cr_median)"
   ]
  },
  {
   "attachments": {},
   "cell_type": "markdown",
   "metadata": {},
   "source": [
    "Adding a new column that contains the age of the company"
   ]
  },
  {
   "cell_type": "code",
   "execution_count": 67,
   "metadata": {},
   "outputs": [],
   "source": [
    "df['company_founded'] = df['company_founded'].fillna(-1)\n",
    "df['company_founded'] = df['company_founded'].astype(int)"
   ]
  },
  {
   "cell_type": "code",
   "execution_count": 68,
   "metadata": {},
   "outputs": [
    {
     "data": {
      "text/plain": [
       "0    -1\n",
       "1    -1\n",
       "2    -1\n",
       "3    47\n",
       "4    -1\n",
       "Name: company_age, dtype: int64"
      ]
     },
     "execution_count": 68,
     "metadata": {},
     "output_type": "execute_result"
    }
   ],
   "source": [
    "import datetime\n",
    "\n",
    "today = datetime.datetime.now()\n",
    "\n",
    "df['company_age'] = df.company_founded.apply(lambda x: x if x < 0 else today.year - x)\n",
    "\n",
    "df['company_age'].head()"
   ]
  },
  {
   "attachments": {},
   "cell_type": "markdown",
   "metadata": {},
   "source": [
    "Simplifying the job title"
   ]
  },
  {
   "cell_type": "code",
   "execution_count": 69,
   "metadata": {},
   "outputs": [],
   "source": [
    "def title_simplifier(title):\n",
    "    if 'data scientist' in title.lower():\n",
    "        return 'data scientist'\n",
    "    elif 'data engineer' in title.lower():\n",
    "        return 'data engineer'\n",
    "    elif 'data analyst' in title.lower():\n",
    "        return 'data analyst'\n",
    "    elif 'machine learning' in title.lower():\n",
    "        return 'mle'\n",
    "    else:\n",
    "        return 'na'"
   ]
  },
  {
   "cell_type": "code",
   "execution_count": 70,
   "metadata": {},
   "outputs": [
    {
     "data": {
      "text/plain": [
       "data engineer     450\n",
       "na                 97\n",
       "data scientist      3\n",
       "data analyst        2\n",
       "mle                 2\n",
       "Name: job_simp, dtype: int64"
      ]
     },
     "execution_count": 70,
     "metadata": {},
     "output_type": "execute_result"
    }
   ],
   "source": [
    "df['job_simp'] = df['job_title'].apply(title_simplifier)\n",
    "df.job_simp.value_counts()"
   ]
  },
  {
   "cell_type": "code",
   "execution_count": 71,
   "metadata": {},
   "outputs": [
    {
     "data": {
      "text/plain": [
       "data engineer    450\n",
       "Name: job_simp, dtype: int64"
      ]
     },
     "execution_count": 71,
     "metadata": {},
     "output_type": "execute_result"
    }
   ],
   "source": [
    "df = df[df['job_simp'] == 'data engineer']\n",
    "\n",
    "df.job_simp.value_counts()"
   ]
  },
  {
   "cell_type": "code",
   "execution_count": 72,
   "metadata": {},
   "outputs": [],
   "source": [
    "def seniority(title):\n",
    "    if 'sr' in title.lower() or 'senior' in title.lower() or 'sr.' in title.lower() or 'lead' in title.lower() or 'principal' in title.lower():\n",
    "            return 'senior'\n",
    "    elif 'jr' in title.lower() or 'jr.' in title.lower():\n",
    "        return 'junior'\n",
    "    else:\n",
    "        return 'na'"
   ]
  },
  {
   "cell_type": "code",
   "execution_count": 73,
   "metadata": {},
   "outputs": [
    {
     "data": {
      "text/plain": [
       "na        320\n",
       "senior    129\n",
       "junior      1\n",
       "Name: seniority, dtype: int64"
      ]
     },
     "execution_count": 73,
     "metadata": {},
     "output_type": "execute_result"
    }
   ],
   "source": [
    "df['seniority'] = df['job_title'].apply(seniority)\n",
    "df.seniority.value_counts()"
   ]
  },
  {
   "cell_type": "code",
   "execution_count": 74,
   "metadata": {},
   "outputs": [
    {
     "data": {
      "text/plain": [
       "na        320\n",
       "senior    129\n",
       "Name: seniority, dtype: int64"
      ]
     },
     "execution_count": 74,
     "metadata": {},
     "output_type": "execute_result"
    }
   ],
   "source": [
    "df = df[df['seniority'] != \"junior\"]\n",
    "\n",
    "df.seniority.value_counts()"
   ]
  },
  {
   "attachments": {},
   "cell_type": "markdown",
   "metadata": {},
   "source": [
    "Extracting relevant skills from job description"
   ]
  },
  {
   "cell_type": "code",
   "execution_count": 86,
   "metadata": {},
   "outputs": [],
   "source": [
    "prog_languages = ['python', 'java', 'scala', 'go', 'r', 'c++', 'c#', 'sql', 'nosql', 'rust', 'shell']\n",
    "cloud_tools = ['aws', 'azure', 'google cloud', 'snowflake', 'databricks', 'redshift']\n",
    "viz_tools = ['power bi', 'tableau', 'excel', 'ssis', 'qlik', 'sap', 'looker']\n",
    "databases = ['sql server', 'postgresql', 'mongodb', 'mysql', 'oracle', 'casandra', 'elasticsearch', 'dynamodb', 'snowflake', 'redis', 'neo4j', 'hive', 'dbt']\n",
    "big_data = ['spark', 'hadoop', 'kafka', 'flink']\n",
    "devops = ['gitlab', 'terraform', 'docker', 'bash', 'ansible']"
   ]
  },
  {
   "cell_type": "code",
   "execution_count": 87,
   "metadata": {},
   "outputs": [],
   "source": [
    "import re\n",
    "\n",
    "def extract_keywords(description, keywords):\n",
    "    pattern = r'\\b(?:{})\\b'.format('|'.join(map(re.escape, keywords)))\n",
    "    matches = set(re.findall(pattern, description.lower(), flags=re.IGNORECASE))\n",
    "    \n",
    "    return list(matches)"
   ]
  },
  {
   "cell_type": "code",
   "execution_count": 88,
   "metadata": {},
   "outputs": [],
   "source": [
    "df['job_languages'] = df['job_description'].apply(lambda x: extract_keywords(x, prog_languages))\n",
    "df['job_cloud'] = df['job_description'].apply(lambda x: extract_keywords(x, cloud_tools))\n",
    "df['job_viz'] = df['job_description'].apply(lambda x: extract_keywords(x, viz_tools))\n",
    "df['job_databases'] = df['job_description'].apply(lambda x: extract_keywords(x, databases))\n",
    "df['job_bigdata'] = df['job_description'].apply(lambda x: extract_keywords(x, big_data))\n",
    "df['job_devops'] = df['job_description'].apply(lambda x: extract_keywords(x, devops))"
   ]
  },
  {
   "attachments": {},
   "cell_type": "markdown",
   "metadata": {},
   "source": [
    "Extracting Education from job description"
   ]
  },
  {
   "cell_type": "code",
   "execution_count": 89,
   "metadata": {},
   "outputs": [],
   "source": [
    "education = ['associate', 'bachelor', 'master', 'phd']"
   ]
  },
  {
   "cell_type": "code",
   "execution_count": 90,
   "metadata": {},
   "outputs": [],
   "source": [
    "def extract_degree(description, degrees):\n",
    "    pattern = r'\\b(?:{})\\b'.format('|'.join(map(re.escape, degrees)))\n",
    "    matches = re.findall(pattern, description.lower(), flags=re.IGNORECASE)\n",
    "    \n",
    "    if matches:\n",
    "        return matches[0]\n",
    "    \n",
    "    return None"
   ]
  },
  {
   "cell_type": "code",
   "execution_count": 91,
   "metadata": {},
   "outputs": [
    {
     "data": {
      "text/plain": [
       "bachelor    175\n",
       "master       28\n",
       "Name: job_education, dtype: int64"
      ]
     },
     "execution_count": 91,
     "metadata": {},
     "output_type": "execute_result"
    }
   ],
   "source": [
    "df['job_education'] = df['job_description'].apply(lambda x: extract_degree(x, education))\n",
    "\n",
    "df['job_education'].value_counts()"
   ]
  },
  {
   "cell_type": "code",
   "execution_count": 92,
   "metadata": {},
   "outputs": [
    {
     "data": {
      "text/plain": [
       "bachelor    175\n",
       "master       28\n",
       "Name: job_education, dtype: int64"
      ]
     },
     "execution_count": 92,
     "metadata": {},
     "output_type": "execute_result"
    }
   ],
   "source": [
    "df = df[df['job_education'] != \"associate\"]\n",
    "df = df[df['job_education'] != \"phd\"]\n",
    "\n",
    "df['job_education'].value_counts()"
   ]
  },
  {
   "attachments": {},
   "cell_type": "markdown",
   "metadata": {},
   "source": [
    "Let's extract the experience needed to apply for the job"
   ]
  },
  {
   "cell_type": "code",
   "execution_count": 93,
   "metadata": {},
   "outputs": [],
   "source": [
    "import re\n",
    "\n",
    "def extract_experience(description):\n",
    "    pattern = r'(?:Experience level|experience|\\+).*(?:\\n.*)*(\\d+|\\+)\\s*(?:year|years|\\+ years|\\+ years of experience)'\n",
    "    matches = re.findall(pattern, description, flags=re.IGNORECASE)\n",
    "    \n",
    "    if matches:\n",
    "        experience = matches[0]\n",
    "        if experience == '+':\n",
    "            return \"+10 years\"\n",
    "        elif int(experience) < 2:\n",
    "            return \"0-2 years\"\n",
    "        elif int(experience) < 5:\n",
    "            return \"2-5 years\"\n",
    "        elif int(experience) < 10:\n",
    "            return \"5-10 years\"\n",
    "        else:\n",
    "            return \"+10 years\"\n",
    "    else:\n",
    "        return None"
   ]
  },
  {
   "cell_type": "code",
   "execution_count": 94,
   "metadata": {},
   "outputs": [
    {
     "data": {
      "text/plain": [
       "+10 years     106\n",
       "5-10 years     70\n",
       "0-2 years      64\n",
       "2-5 years      62\n",
       "Name: job_experience, dtype: int64"
      ]
     },
     "execution_count": 94,
     "metadata": {},
     "output_type": "execute_result"
    }
   ],
   "source": [
    "df['job_experience'] = df['job_description'].apply(lambda x: extract_experience(x))\n",
    "\n",
    "df['job_experience'].value_counts()"
   ]
  },
  {
   "attachments": {},
   "cell_type": "markdown",
   "metadata": {},
   "source": [
    "Some job listings don't mention the education or years of experience needed."
   ]
  },
  {
   "cell_type": "code",
   "execution_count": 84,
   "metadata": {},
   "outputs": [
    {
     "data": {
      "text/html": [
       "<div>\n",
       "<style scoped>\n",
       "    .dataframe tbody tr th:only-of-type {\n",
       "        vertical-align: middle;\n",
       "    }\n",
       "\n",
       "    .dataframe tbody tr th {\n",
       "        vertical-align: top;\n",
       "    }\n",
       "\n",
       "    .dataframe thead th {\n",
       "        text-align: right;\n",
       "    }\n",
       "</style>\n",
       "<table border=\"1\" class=\"dataframe\">\n",
       "  <thead>\n",
       "    <tr style=\"text-align: right;\">\n",
       "      <th></th>\n",
       "      <th>company</th>\n",
       "      <th>company_rating</th>\n",
       "      <th>location</th>\n",
       "      <th>job_title</th>\n",
       "      <th>job_description</th>\n",
       "      <th>salary_estimate</th>\n",
       "      <th>company_size</th>\n",
       "      <th>company_type</th>\n",
       "      <th>company_sector</th>\n",
       "      <th>company_industry</th>\n",
       "      <th>...</th>\n",
       "      <th>job_simp</th>\n",
       "      <th>seniority</th>\n",
       "      <th>job_languages</th>\n",
       "      <th>job_cloud</th>\n",
       "      <th>job_viz</th>\n",
       "      <th>job_databases</th>\n",
       "      <th>job_bigdata</th>\n",
       "      <th>job_devops</th>\n",
       "      <th>job_education</th>\n",
       "      <th>job_experience</th>\n",
       "    </tr>\n",
       "  </thead>\n",
       "  <tbody>\n",
       "    <tr>\n",
       "      <th>0</th>\n",
       "      <td>PCS Global Tech</td>\n",
       "      <td>4.7</td>\n",
       "      <td>Riverside, CA</td>\n",
       "      <td>Data Engineer | PAID BOOTCAMP</td>\n",
       "      <td>Responsibilities\\r\\n· Analyze and organize raw...</td>\n",
       "      <td>70000</td>\n",
       "      <td>501 to 1000 Employees</td>\n",
       "      <td>Company - Private</td>\n",
       "      <td>Information Technology</td>\n",
       "      <td>Information Technology Support Services</td>\n",
       "      <td>...</td>\n",
       "      <td>data engineer</td>\n",
       "      <td>na</td>\n",
       "      <td>[sql, java, python]</td>\n",
       "      <td>[]</td>\n",
       "      <td>[]</td>\n",
       "      <td>[]</td>\n",
       "      <td>[]</td>\n",
       "      <td>[]</td>\n",
       "      <td>None</td>\n",
       "      <td>0-2 years</td>\n",
       "    </tr>\n",
       "    <tr>\n",
       "      <th>1</th>\n",
       "      <td>Futuretech Consultants LLC</td>\n",
       "      <td>4.0</td>\n",
       "      <td>Newton, MS</td>\n",
       "      <td>Snowflake Data Engineer</td>\n",
       "      <td>My name is Dileep and I am a recruiter at Futu...</td>\n",
       "      <td>76500</td>\n",
       "      <td>NaN</td>\n",
       "      <td>NaN</td>\n",
       "      <td>NaN</td>\n",
       "      <td>NaN</td>\n",
       "      <td>...</td>\n",
       "      <td>data engineer</td>\n",
       "      <td>na</td>\n",
       "      <td>[sql]</td>\n",
       "      <td>[snowflake]</td>\n",
       "      <td>[ssis]</td>\n",
       "      <td>[snowflake]</td>\n",
       "      <td>[]</td>\n",
       "      <td>[]</td>\n",
       "      <td>bachelor</td>\n",
       "      <td>2-5 years</td>\n",
       "    </tr>\n",
       "    <tr>\n",
       "      <th>2</th>\n",
       "      <td>Clairvoyant</td>\n",
       "      <td>4.4</td>\n",
       "      <td>Remote</td>\n",
       "      <td>Data Engineer (MDM)</td>\n",
       "      <td>Required Skills:\\r\\nMust have 5-8+ Years of ex...</td>\n",
       "      <td>121500</td>\n",
       "      <td>51 to 200 Employees</td>\n",
       "      <td>Company - Private</td>\n",
       "      <td>Pharmaceutical &amp; Biotechnology</td>\n",
       "      <td>Biotech &amp; Pharmaceuticals</td>\n",
       "      <td>...</td>\n",
       "      <td>data engineer</td>\n",
       "      <td>na</td>\n",
       "      <td>[sql, python]</td>\n",
       "      <td>[databricks, aws]</td>\n",
       "      <td>[]</td>\n",
       "      <td>[]</td>\n",
       "      <td>[spark]</td>\n",
       "      <td>[]</td>\n",
       "      <td>master</td>\n",
       "      <td>0-2 years</td>\n",
       "    </tr>\n",
       "    <tr>\n",
       "      <th>3</th>\n",
       "      <td>Apple</td>\n",
       "      <td>4.2</td>\n",
       "      <td>Cupertino, CA</td>\n",
       "      <td>Data Engineer</td>\n",
       "      <td>Summary\\r\\nPosted: Dec 22, 2021\\r\\nWeekly Hour...</td>\n",
       "      <td>111739</td>\n",
       "      <td>10000+ Employees</td>\n",
       "      <td>Company - Public</td>\n",
       "      <td>Information Technology</td>\n",
       "      <td>Computer Hardware Development</td>\n",
       "      <td>...</td>\n",
       "      <td>data engineer</td>\n",
       "      <td>na</td>\n",
       "      <td>[python]</td>\n",
       "      <td>[]</td>\n",
       "      <td>[tableau]</td>\n",
       "      <td>[]</td>\n",
       "      <td>[]</td>\n",
       "      <td>[]</td>\n",
       "      <td>None</td>\n",
       "      <td>None</td>\n",
       "    </tr>\n",
       "    <tr>\n",
       "      <th>4</th>\n",
       "      <td>Skytech Consultancy Services</td>\n",
       "      <td>5.0</td>\n",
       "      <td>Baltimore, MD</td>\n",
       "      <td>Data Engineer</td>\n",
       "      <td>Description of Work:\\r\\nTechnical experience i...</td>\n",
       "      <td>117000</td>\n",
       "      <td>1 to 50 Employees</td>\n",
       "      <td>Company - Public</td>\n",
       "      <td>NaN</td>\n",
       "      <td>NaN</td>\n",
       "      <td>...</td>\n",
       "      <td>data engineer</td>\n",
       "      <td>na</td>\n",
       "      <td>[sql]</td>\n",
       "      <td>[]</td>\n",
       "      <td>[tableau]</td>\n",
       "      <td>[oracle]</td>\n",
       "      <td>[]</td>\n",
       "      <td>[]</td>\n",
       "      <td>bachelor</td>\n",
       "      <td>5-10 years</td>\n",
       "    </tr>\n",
       "  </tbody>\n",
       "</table>\n",
       "<p>5 rows × 24 columns</p>\n",
       "</div>"
      ],
      "text/plain": [
       "                        company  company_rating       location  \\\n",
       "0               PCS Global Tech             4.7  Riverside, CA   \n",
       "1    Futuretech Consultants LLC             4.0     Newton, MS   \n",
       "2                   Clairvoyant             4.4         Remote   \n",
       "3                         Apple             4.2  Cupertino, CA   \n",
       "4  Skytech Consultancy Services             5.0  Baltimore, MD   \n",
       "\n",
       "                       job_title  \\\n",
       "0  Data Engineer | PAID BOOTCAMP   \n",
       "1        Snowflake Data Engineer   \n",
       "2            Data Engineer (MDM)   \n",
       "3                  Data Engineer   \n",
       "4                  Data Engineer   \n",
       "\n",
       "                                     job_description  salary_estimate  \\\n",
       "0  Responsibilities\\r\\n· Analyze and organize raw...            70000   \n",
       "1  My name is Dileep and I am a recruiter at Futu...            76500   \n",
       "2  Required Skills:\\r\\nMust have 5-8+ Years of ex...           121500   \n",
       "3  Summary\\r\\nPosted: Dec 22, 2021\\r\\nWeekly Hour...           111739   \n",
       "4  Description of Work:\\r\\nTechnical experience i...           117000   \n",
       "\n",
       "            company_size       company_type                  company_sector  \\\n",
       "0  501 to 1000 Employees  Company - Private          Information Technology   \n",
       "1                    NaN                NaN                             NaN   \n",
       "2    51 to 200 Employees  Company - Private  Pharmaceutical & Biotechnology   \n",
       "3       10000+ Employees   Company - Public          Information Technology   \n",
       "4      1 to 50 Employees   Company - Public                             NaN   \n",
       "\n",
       "                          company_industry  ...       job_simp seniority  \\\n",
       "0  Information Technology Support Services  ...  data engineer        na   \n",
       "1                                      NaN  ...  data engineer        na   \n",
       "2                Biotech & Pharmaceuticals  ...  data engineer        na   \n",
       "3            Computer Hardware Development  ...  data engineer        na   \n",
       "4                                      NaN  ...  data engineer        na   \n",
       "\n",
       "         job_languages          job_cloud    job_viz job_databases  \\\n",
       "0  [sql, java, python]                 []         []            []   \n",
       "1                [sql]        [snowflake]     [ssis]   [snowflake]   \n",
       "2        [sql, python]  [databricks, aws]         []            []   \n",
       "3             [python]                 []  [tableau]            []   \n",
       "4                [sql]                 []  [tableau]      [oracle]   \n",
       "\n",
       "  job_bigdata job_devops job_education job_experience  \n",
       "0          []         []          None      0-2 years  \n",
       "1          []         []      bachelor      2-5 years  \n",
       "2     [spark]         []        master      0-2 years  \n",
       "3          []         []          None           None  \n",
       "4          []         []      bachelor     5-10 years  \n",
       "\n",
       "[5 rows x 24 columns]"
      ]
     },
     "execution_count": 84,
     "metadata": {},
     "output_type": "execute_result"
    }
   ],
   "source": [
    "df.head()"
   ]
  },
  {
   "attachments": {},
   "cell_type": "markdown",
   "metadata": {},
   "source": [
    "Exporting the cleaned version of the dataframe as a new data file"
   ]
  },
  {
   "cell_type": "code",
   "execution_count": 95,
   "metadata": {},
   "outputs": [],
   "source": [
    "data_path = '../data/processed/'\n",
    "\n",
    "df.to_csv(data_path + \"glassdoor-data-engineer-cleaned.csv\", index=False)"
   ]
  }
 ],
 "metadata": {
  "kernelspec": {
   "display_name": "Python 3",
   "language": "python",
   "name": "python3"
  },
  "language_info": {
   "codemirror_mode": {
    "name": "ipython",
    "version": 3
   },
   "file_extension": ".py",
   "mimetype": "text/x-python",
   "name": "python",
   "nbconvert_exporter": "python",
   "pygments_lexer": "ipython3",
   "version": "3.10.5"
  },
  "orig_nbformat": 4,
  "vscode": {
   "interpreter": {
    "hash": "369f2c481f4da34e4445cda3fffd2e751bd1c4d706f27375911949ba6bb62e1c"
   }
  }
 },
 "nbformat": 4,
 "nbformat_minor": 2
}
